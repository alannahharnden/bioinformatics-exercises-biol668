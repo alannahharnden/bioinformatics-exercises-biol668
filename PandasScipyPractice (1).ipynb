{
 "cells": [
  {
   "cell_type": "markdown",
   "metadata": {},
   "source": [
    "# In class practice with Pandas & Scipy Libraries"
   ]
  },
  {
   "cell_type": "markdown",
   "metadata": {},
   "source": [
    "Import the libraries "
   ]
  },
  {
   "cell_type": "code",
   "execution_count": 52,
   "metadata": {},
   "outputs": [],
   "source": [
    "import os\n",
    "import re\n",
    "import pandas as pd\n",
    "from scipy import stats"
   ]
  },
  {
   "cell_type": "markdown",
   "metadata": {},
   "source": [
    "hello world"
   ]
  },
  {
   "cell_type": "markdown",
   "metadata": {},
   "source": [
    "## Working with pandas"
   ]
  },
  {
   "cell_type": "markdown",
   "metadata": {},
   "source": [
    "How to importa a tab-delimited text data file. The file is in the same directory at the jupyter notebook."
   ]
  },
  {
   "cell_type": "code",
   "execution_count": 5,
   "metadata": {},
   "outputs": [],
   "source": [
    "data=pd.read_csv('hist_taxa_treat2.txt', sep='\\t', index_col=False, low_memory=False)"
   ]
  },
  {
   "cell_type": "markdown",
   "metadata": {},
   "source": [
    "How to use pandas to assign data from the dataset to a variable."
   ]
  },
  {
   "cell_type": "code",
   "execution_count": 6,
   "metadata": {},
   "outputs": [
    {
     "name": "stdout",
     "output_type": "stream",
     "text": [
      "lactos\n",
      "0     0.063575\n",
      "1     0.030630\n",
      "2     0.026108\n",
      "3     0.058233\n",
      "4     0.092633\n",
      "        ...   \n",
      "84    0.003580\n",
      "85    0.016010\n",
      "86    0.044609\n",
      "87    0.007296\n",
      "88    0.003000\n",
      "Name: Abundance, Length: 89, dtype: float64\n"
     ]
    }
   ],
   "source": [
    "lacto=data.loc[(data['Species']=='Lactobacillus')]\n",
    "x=lacto['Abundance']\n",
    "print('lactos')\n",
    "print(x)"
   ]
  },
  {
   "cell_type": "code",
   "execution_count": 7,
   "metadata": {},
   "outputs": [
    {
     "name": "stdout",
     "output_type": "stream",
     "text": [
      "paras\n",
      "89     0.005896\n",
      "90     0.001962\n",
      "91     0.002219\n",
      "92     0.003267\n",
      "93     0.002320\n",
      "         ...   \n",
      "173    0.003376\n",
      "174    0.002668\n",
      "175    0.012194\n",
      "176    0.020810\n",
      "177    0.006534\n",
      "Name: Abundance, Length: 89, dtype: float64\n"
     ]
    }
   ],
   "source": [
    "para=data.loc[(data['Species']=='Parabacteroides')]\n",
    "#print(para)\n",
    "y=para['Abundance']\n",
    "print('paras')\n",
    "print(y)"
   ]
  },
  {
   "cell_type": "markdown",
   "metadata": {},
   "source": [
    "## Working with Scipy statistic methods"
   ]
  },
  {
   "cell_type": "code",
   "execution_count": 8,
   "metadata": {},
   "outputs": [
    {
     "name": "stdout",
     "output_type": "stream",
     "text": [
      "Ttest_indResult(statistic=7.288016524628964, pvalue=1.0200357215755368e-11)\n"
     ]
    }
   ],
   "source": [
    "tt_out=stats.ttest_ind(x,y)\n",
    "print(tt_out)"
   ]
  },
  {
   "cell_type": "markdown",
   "metadata": {},
   "source": [
    "## Exercises"
   ]
  },
  {
   "cell_type": "markdown",
   "metadata": {},
   "source": [
    "PRINT HEAD AND TAIL OF data"
   ]
  },
  {
   "cell_type": "code",
   "execution_count": null,
   "metadata": {},
   "outputs": [],
   "source": []
  },
  {
   "cell_type": "markdown",
   "metadata": {},
   "source": [
    "Assign 3 variables to 3 different values in column 'Species'"
   ]
  },
  {
   "cell_type": "code",
   "execution_count": null,
   "metadata": {},
   "outputs": [],
   "source": []
  },
  {
   "cell_type": "markdown",
   "metadata": {},
   "source": [
    "Use the describe function"
   ]
  },
  {
   "cell_type": "code",
   "execution_count": null,
   "metadata": {},
   "outputs": [],
   "source": []
  },
  {
   "cell_type": "markdown",
   "metadata": {},
   "source": [
    "Print the sums, var, and std for data"
   ]
  },
  {
   "cell_type": "code",
   "execution_count": null,
   "metadata": {},
   "outputs": [],
   "source": []
  },
  {
   "cell_type": "markdown",
   "metadata": {},
   "source": [
    "Make a new dataframe that only includes SampleID and Species.\n",
    "Make a second dataframe that only includes only Abundance.\n",
    "Make a third dataframe that merges the other two.\n",
    "\n"
   ]
  },
  {
   "cell_type": "code",
   "execution_count": null,
   "metadata": {},
   "outputs": [],
   "source": []
  },
  {
   "cell_type": "code",
   "execution_count": 9,
   "metadata": {},
   "outputs": [
    {
     "data": {
      "text/html": [
       "<div>\n",
       "<style scoped>\n",
       "    .dataframe tbody tr th:only-of-type {\n",
       "        vertical-align: middle;\n",
       "    }\n",
       "\n",
       "    .dataframe tbody tr th {\n",
       "        vertical-align: top;\n",
       "    }\n",
       "\n",
       "    .dataframe thead th {\n",
       "        text-align: right;\n",
       "    }\n",
       "</style>\n",
       "<table border=\"1\" class=\"dataframe\">\n",
       "  <thead>\n",
       "    <tr style=\"text-align: right;\">\n",
       "      <th></th>\n",
       "      <th>SampleID</th>\n",
       "      <th>Treatment</th>\n",
       "      <th>Treatment_no</th>\n",
       "      <th>Time</th>\n",
       "      <th>Species</th>\n",
       "      <th>Abundance</th>\n",
       "      <th>Count</th>\n",
       "    </tr>\n",
       "  </thead>\n",
       "  <tbody>\n",
       "    <tr>\n",
       "      <th>0</th>\n",
       "      <td>CC01A</td>\n",
       "      <td>Control</td>\n",
       "      <td>1.0</td>\n",
       "      <td>0.0</td>\n",
       "      <td>Lactobacillus</td>\n",
       "      <td>0.063575</td>\n",
       "      <td>1430.0</td>\n",
       "    </tr>\n",
       "    <tr>\n",
       "      <th>1</th>\n",
       "      <td>CC01B</td>\n",
       "      <td>Control</td>\n",
       "      <td>1.0</td>\n",
       "      <td>1.0</td>\n",
       "      <td>Lactobacillus</td>\n",
       "      <td>0.030630</td>\n",
       "      <td>379.0</td>\n",
       "    </tr>\n",
       "    <tr>\n",
       "      <th>2</th>\n",
       "      <td>CC01C</td>\n",
       "      <td>Control</td>\n",
       "      <td>1.0</td>\n",
       "      <td>2.0</td>\n",
       "      <td>Lactobacillus</td>\n",
       "      <td>0.026108</td>\n",
       "      <td>386.0</td>\n",
       "    </tr>\n",
       "    <tr>\n",
       "      <th>3</th>\n",
       "      <td>CC01D</td>\n",
       "      <td>Control</td>\n",
       "      <td>1.0</td>\n",
       "      <td>3.0</td>\n",
       "      <td>Lactobacillus</td>\n",
       "      <td>0.058233</td>\n",
       "      <td>1193.0</td>\n",
       "    </tr>\n",
       "    <tr>\n",
       "      <th>4</th>\n",
       "      <td>CC02A</td>\n",
       "      <td>Control</td>\n",
       "      <td>1.0</td>\n",
       "      <td>0.0</td>\n",
       "      <td>Lactobacillus</td>\n",
       "      <td>0.092633</td>\n",
       "      <td>2455.0</td>\n",
       "    </tr>\n",
       "  </tbody>\n",
       "</table>\n",
       "</div>"
      ],
      "text/plain": [
       "  SampleID Treatment  Treatment_no  Time        Species  Abundance   Count\n",
       "0    CC01A   Control           1.0   0.0  Lactobacillus   0.063575  1430.0\n",
       "1    CC01B   Control           1.0   1.0  Lactobacillus   0.030630   379.0\n",
       "2    CC01C   Control           1.0   2.0  Lactobacillus   0.026108   386.0\n",
       "3    CC01D   Control           1.0   3.0  Lactobacillus   0.058233  1193.0\n",
       "4    CC02A   Control           1.0   0.0  Lactobacillus   0.092633  2455.0"
      ]
     },
     "execution_count": 9,
     "metadata": {},
     "output_type": "execute_result"
    }
   ],
   "source": [
    "data.head()"
   ]
  },
  {
   "cell_type": "code",
   "execution_count": 10,
   "metadata": {},
   "outputs": [
    {
     "data": {
      "text/html": [
       "<div>\n",
       "<style scoped>\n",
       "    .dataframe tbody tr th:only-of-type {\n",
       "        vertical-align: middle;\n",
       "    }\n",
       "\n",
       "    .dataframe tbody tr th {\n",
       "        vertical-align: top;\n",
       "    }\n",
       "\n",
       "    .dataframe thead th {\n",
       "        text-align: right;\n",
       "    }\n",
       "</style>\n",
       "<table border=\"1\" class=\"dataframe\">\n",
       "  <thead>\n",
       "    <tr style=\"text-align: right;\">\n",
       "      <th></th>\n",
       "      <th>SampleID</th>\n",
       "      <th>Treatment</th>\n",
       "      <th>Treatment_no</th>\n",
       "      <th>Time</th>\n",
       "      <th>Species</th>\n",
       "      <th>Abundance</th>\n",
       "      <th>Count</th>\n",
       "    </tr>\n",
       "  </thead>\n",
       "  <tbody>\n",
       "    <tr>\n",
       "      <th>0</th>\n",
       "      <td>CC01A</td>\n",
       "      <td>Control</td>\n",
       "      <td>1.0</td>\n",
       "      <td>0.0</td>\n",
       "      <td>Lactobacillus</td>\n",
       "      <td>0.063575</td>\n",
       "      <td>1430.0</td>\n",
       "    </tr>\n",
       "    <tr>\n",
       "      <th>1</th>\n",
       "      <td>CC01B</td>\n",
       "      <td>Control</td>\n",
       "      <td>1.0</td>\n",
       "      <td>1.0</td>\n",
       "      <td>Lactobacillus</td>\n",
       "      <td>0.030630</td>\n",
       "      <td>379.0</td>\n",
       "    </tr>\n",
       "    <tr>\n",
       "      <th>2</th>\n",
       "      <td>CC01C</td>\n",
       "      <td>Control</td>\n",
       "      <td>1.0</td>\n",
       "      <td>2.0</td>\n",
       "      <td>Lactobacillus</td>\n",
       "      <td>0.026108</td>\n",
       "      <td>386.0</td>\n",
       "    </tr>\n",
       "    <tr>\n",
       "      <th>3</th>\n",
       "      <td>CC01D</td>\n",
       "      <td>Control</td>\n",
       "      <td>1.0</td>\n",
       "      <td>3.0</td>\n",
       "      <td>Lactobacillus</td>\n",
       "      <td>0.058233</td>\n",
       "      <td>1193.0</td>\n",
       "    </tr>\n",
       "    <tr>\n",
       "      <th>4</th>\n",
       "      <td>CC02A</td>\n",
       "      <td>Control</td>\n",
       "      <td>1.0</td>\n",
       "      <td>0.0</td>\n",
       "      <td>Lactobacillus</td>\n",
       "      <td>0.092633</td>\n",
       "      <td>2455.0</td>\n",
       "    </tr>\n",
       "    <tr>\n",
       "      <th>...</th>\n",
       "      <td>...</td>\n",
       "      <td>...</td>\n",
       "      <td>...</td>\n",
       "      <td>...</td>\n",
       "      <td>...</td>\n",
       "      <td>...</td>\n",
       "      <td>...</td>\n",
       "    </tr>\n",
       "    <tr>\n",
       "      <th>1330</th>\n",
       "      <td>CC23C</td>\n",
       "      <td>Treatment</td>\n",
       "      <td>NaN</td>\n",
       "      <td>NaN</td>\n",
       "      <td>Desulfovibrionaceae</td>\n",
       "      <td>0.000000</td>\n",
       "      <td>NaN</td>\n",
       "    </tr>\n",
       "    <tr>\n",
       "      <th>1331</th>\n",
       "      <td>CC23D</td>\n",
       "      <td>Treatment</td>\n",
       "      <td>NaN</td>\n",
       "      <td>NaN</td>\n",
       "      <td>Desulfovibrionaceae</td>\n",
       "      <td>0.000000</td>\n",
       "      <td>NaN</td>\n",
       "    </tr>\n",
       "    <tr>\n",
       "      <th>1332</th>\n",
       "      <td>CC24A</td>\n",
       "      <td>Treatment</td>\n",
       "      <td>NaN</td>\n",
       "      <td>NaN</td>\n",
       "      <td>Desulfovibrionaceae</td>\n",
       "      <td>0.000203</td>\n",
       "      <td>NaN</td>\n",
       "    </tr>\n",
       "    <tr>\n",
       "      <th>1333</th>\n",
       "      <td>CC24B</td>\n",
       "      <td>Treatment</td>\n",
       "      <td>NaN</td>\n",
       "      <td>NaN</td>\n",
       "      <td>Desulfovibrionaceae</td>\n",
       "      <td>0.000063</td>\n",
       "      <td>NaN</td>\n",
       "    </tr>\n",
       "    <tr>\n",
       "      <th>1334</th>\n",
       "      <td>CC24D</td>\n",
       "      <td>Treatment</td>\n",
       "      <td>NaN</td>\n",
       "      <td>NaN</td>\n",
       "      <td>Desulfovibrionaceae</td>\n",
       "      <td>0.000000</td>\n",
       "      <td>NaN</td>\n",
       "    </tr>\n",
       "  </tbody>\n",
       "</table>\n",
       "<p>1335 rows × 7 columns</p>\n",
       "</div>"
      ],
      "text/plain": [
       "     SampleID  Treatment  Treatment_no  Time              Species  Abundance  \\\n",
       "0       CC01A    Control           1.0   0.0        Lactobacillus   0.063575   \n",
       "1       CC01B    Control           1.0   1.0        Lactobacillus   0.030630   \n",
       "2       CC01C    Control           1.0   2.0        Lactobacillus   0.026108   \n",
       "3       CC01D    Control           1.0   3.0        Lactobacillus   0.058233   \n",
       "4       CC02A    Control           1.0   0.0        Lactobacillus   0.092633   \n",
       "...       ...        ...           ...   ...                  ...        ...   \n",
       "1330    CC23C  Treatment           NaN   NaN  Desulfovibrionaceae   0.000000   \n",
       "1331    CC23D  Treatment           NaN   NaN  Desulfovibrionaceae   0.000000   \n",
       "1332    CC24A  Treatment           NaN   NaN  Desulfovibrionaceae   0.000203   \n",
       "1333    CC24B  Treatment           NaN   NaN  Desulfovibrionaceae   0.000063   \n",
       "1334    CC24D  Treatment           NaN   NaN  Desulfovibrionaceae   0.000000   \n",
       "\n",
       "       Count  \n",
       "0     1430.0  \n",
       "1      379.0  \n",
       "2      386.0  \n",
       "3     1193.0  \n",
       "4     2455.0  \n",
       "...      ...  \n",
       "1330     NaN  \n",
       "1331     NaN  \n",
       "1332     NaN  \n",
       "1333     NaN  \n",
       "1334     NaN  \n",
       "\n",
       "[1335 rows x 7 columns]"
      ]
     },
     "execution_count": 10,
     "metadata": {},
     "output_type": "execute_result"
    }
   ],
   "source": [
    "data"
   ]
  },
  {
   "cell_type": "markdown",
   "metadata": {},
   "source": [
    "## You can use the directory function to see all the pandas methods"
   ]
  },
  {
   "cell_type": "code",
   "execution_count": 11,
   "metadata": {},
   "outputs": [],
   "source": [
    "#dir(data)"
   ]
  },
  {
   "cell_type": "code",
   "execution_count": 20,
   "metadata": {},
   "outputs": [
    {
     "data": {
      "text/plain": [
       "Index(['SampleID', 'Treatment', 'Treatment_no', 'Time', 'Species', 'Abundance',\n",
       "       'Count'],\n",
       "      dtype='object')"
      ]
     },
     "execution_count": 20,
     "metadata": {},
     "output_type": "execute_result"
    }
   ],
   "source": [
    "#How to see the names of all the columns\n",
    "data.columns  #All the titles for the columns"
   ]
  },
  {
   "cell_type": "code",
   "execution_count": 21,
   "metadata": {},
   "outputs": [
    {
     "name": "stdout",
     "output_type": "stream",
     "text": [
      "SampleID\n",
      "Treatment\n",
      "Treatment_no\n",
      "Time\n",
      "Species\n",
      "Abundance\n",
      "Count\n"
     ]
    }
   ],
   "source": [
    "#Using a for loop to print all the names\n",
    "for i in data.columns: print (i)"
   ]
  },
  {
   "cell_type": "code",
   "execution_count": 22,
   "metadata": {},
   "outputs": [
    {
     "data": {
      "text/plain": [
       "0       1430.0\n",
       "1        379.0\n",
       "2        386.0\n",
       "3       1193.0\n",
       "4       2455.0\n",
       "         ...  \n",
       "1330       NaN\n",
       "1331       NaN\n",
       "1332       NaN\n",
       "1333       NaN\n",
       "1334       NaN\n",
       "Name: Count, Length: 1335, dtype: float64"
      ]
     },
     "execution_count": 22,
     "metadata": {},
     "output_type": "execute_result"
    }
   ],
   "source": [
    "#Retrieve data of all the columns\n",
    "data[\"Count\"]"
   ]
  },
  {
   "cell_type": "code",
   "execution_count": 23,
   "metadata": {},
   "outputs": [
    {
     "data": {
      "text/plain": [
       "233173.0"
      ]
     },
     "execution_count": 23,
     "metadata": {},
     "output_type": "execute_result"
    }
   ],
   "source": [
    "#An example of calculating a stat\n",
    "data[\"Count\"].sum()"
   ]
  },
  {
   "cell_type": "markdown",
   "metadata": {},
   "source": [
    "## Use pandas in a function"
   ]
  },
  {
   "cell_type": "markdown",
   "metadata": {},
   "source": [
    "Write a function called calc_stats that:\n",
    "(1) Takes 2 string arguments, a filename of tab-delimited database and the name of a \n",
    "    column in the data.\n",
    "(2) And it returns a list of the following: the sum, median, mean, standard deviation,\n",
    "    minimum value, and maximum value."
   ]
  },
  {
   "cell_type": "code",
   "execution_count": 1,
   "metadata": {},
   "outputs": [],
   "source": [
    "def calc_stats():\n",
    "    return"
   ]
  },
  {
   "cell_type": "code",
   "execution_count": 53,
   "metadata": {},
   "outputs": [
    {
     "name": "stdout",
     "output_type": "stream",
     "text": [
      "[233173.0, 28.0, 218.32677902621722, 448.92572275301353, 0.0, 4317.0]\n"
     ]
    }
   ],
   "source": [
    "out=calc_stats(\"hist_taxa_treat2.txt\", \"Count\")\n",
    "print(out)\n",
    "#Should print [233173.0, 28.0, 218.32677902621722, 448.92572275301353, 0.0, 4317.0]\n"
   ]
  },
  {
   "cell_type": "code",
   "execution_count": 54,
   "metadata": {},
   "outputs": [
    {
     "name": "stdout",
     "output_type": "stream",
     "text": [
      "[14.939201413, 0.001127497, 0.011190413043445693, 0.024424991167155383, 0.0, 0.206321962]\n"
     ]
    }
   ],
   "source": [
    "out2=calc_stats(\"hist_taxa_treat2.txt\", \"Abundance\")\n",
    "print(out2)\n",
    "#Should print [14.939201413, 0.001127497, 0.011190413043445693, 0.024424991167155383, 0.0, 0.206321962]"
   ]
  },
  {
   "cell_type": "code",
   "execution_count": null,
   "metadata": {},
   "outputs": [],
   "source": []
  }
 ],
 "metadata": {
  "kernelspec": {
   "display_name": "Python 3",
   "language": "python",
   "name": "python3"
  },
  "language_info": {
   "codemirror_mode": {
    "name": "ipython",
    "version": 3
   },
   "file_extension": ".py",
   "mimetype": "text/x-python",
   "name": "python",
   "nbconvert_exporter": "python",
   "pygments_lexer": "ipython3",
   "version": "3.8.5"
  }
 },
 "nbformat": 4,
 "nbformat_minor": 4
}
